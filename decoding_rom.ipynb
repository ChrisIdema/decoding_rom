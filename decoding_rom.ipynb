{
 "cells": [
  {
   "cell_type": "code",
   "execution_count": null,
   "metadata": {},
   "outputs": [],
   "source": [
    "'''\n",
    "https://siliconpr0n.org/map/ti/tms0801nc/mcmaster_mz_mit20x/#x=4186&y=4919&z=4\n",
    "view-source:https://siliconpr0n.org/lib/groupXIV/stable/groupxiv.js\n",
    "\n",
    "\"name\": \"TI TMS0801NC @ Mit20x, &copy;2013 John McMaster, CC BY\"\n",
    "\"name_raw\": \"TI TMS0801NC @ Mit20x\"\n",
    "\n",
    "document.title = options.name + \" \\u00b7 GroupXIV microphotography viewer\"\n",
    "\n",
    "https://siliconpr0n.org/map/ti/tms0801nc/mcmaster_mz_mit20x/l1-tiles/6/42/\n",
    "first number is zoom level\n",
    "6 has 58 folders each with 57 files = 58*57=3306\n",
    "'''"
   ]
  },
  {
   "cell_type": "code",
   "execution_count": null,
   "metadata": {},
   "outputs": [],
   "source": [
    "#\n",
    "# https://stackoverflow.com/questions/7391945/how-do-i-read-image-data-from-a-url-in-python"
   ]
  },
  {
   "cell_type": "code",
   "execution_count": null,
   "metadata": {},
   "outputs": [],
   "source": [
    "from PIL import Image\n",
    "import requests\n",
    "from io import BytesIO\n",
    "\n",
    "url = f\"https://siliconpr0n.org/map/ti/tms0801nc/mcmaster_mz_mit20x/l1-tiles/6/42/{'0'}.jpg\"\n",
    "\n",
    "response = requests.get(url)\n",
    "img = Image.open(BytesIO(response.content))"
   ]
  }
 ],
 "metadata": {
  "language_info": {
   "codemirror_mode": {
    "name": "ipython",
    "version": 3
   },
   "file_extension": ".py",
   "mimetype": "text/x-python",
   "name": "python",
   "nbconvert_exporter": "python",
   "pygments_lexer": "ipython3",
   "version": 3
  }
 },
 "nbformat": 4,
 "nbformat_minor": 2
}
