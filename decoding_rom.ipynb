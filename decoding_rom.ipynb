{
 "cells": [
  {
   "cell_type": "code",
   "execution_count": null,
   "metadata": {},
   "outputs": [],
   "source": [
    "'''\n",
    "https://siliconpr0n.org/map/ti/tms0801nc/mcmaster_mz_mit20x/#x=4186&y=4919&z=4\n",
    "view-source:https://siliconpr0n.org/lib/groupXIV/stable/groupxiv.js\n",
    "\n",
    "\"name\": \"TI TMS0801NC @ Mit20x, &copy;2013 John McMaster, CC BY\"\n",
    "\"name_raw\": \"TI TMS0801NC @ Mit20x\"\n",
    "\n",
    "document.title = options.name + \" \\u00b7 GroupXIV microphotography viewer\"\n",
    "\n",
    "https://siliconpr0n.org/map/ti/tms0801nc/mcmaster_mz_mit20x/l1-tiles/6/42/\n",
    "first number is zoom level\n",
    "6 has 58 folders each with 57 files = 58*57=3306\n",
    "'''"
   ]
  },
  {
   "cell_type": "code",
   "execution_count": null,
   "metadata": {},
   "outputs": [],
   "source": [
    "#\n",
    "# https://stackoverflow.com/questions/7391945/how-do-i-read-image-data-from-a-url-in-python"
   ]
  },
  {
   "cell_type": "code",
   "execution_count": 4,
   "metadata": {},
   "outputs": [],
   "source": [
    "from PIL import Image\n",
    "import requests\n",
    "from io import BytesIO\n",
    "\n",
    "\n",
    "url = f\"https://siliconpr0n.org/map/ti/tms0801nc/mcmaster_mz_mit20x/l1-tiles/6/42/{'0'}.jpg\"\n",
    "response = requests.get(url)\n",
    "img = Image.open(BytesIO(response.content))\n",
    "img.save('img0.jpg')"
   ]
  },
  {
   "cell_type": "code",
   "execution_count": 9,
   "metadata": {},
   "outputs": [],
   "source": [
    "zoom_level = 1\n",
    "rows = 2\n",
    "cols = 2\n",
    "\n",
    "for col in range(cols):\n",
    "    for row in range(rows):\n",
    "        url = f\"https://siliconpr0n.org/map/ti/tms0801nc/mcmaster_mz_mit20x/l1-tiles/{zoom_level}/{col}/{row}.jpg\"\n",
    "        #print(url)\n",
    "        response = requests.get(url)\n",
    "        img = Image.open(BytesIO(response.content))\n",
    "        img.save(f'img_{col}_{row}.jpg')\n"
   ]
  },
  {
   "cell_type": "code",
   "execution_count": 14,
   "metadata": {},
   "outputs": [],
   "source": [
    "def get_concat_h(im1, im2):\n",
    "    dst = Image.new('RGB', (im1.width + im2.width, im1.height))\n",
    "    dst.paste(im1, (0, 0))\n",
    "    dst.paste(im2, (im1.width, 0))\n",
    "    return dst\n",
    "\n",
    "def get_concat_v(im1, im2):\n",
    "    dst = Image.new('RGB', (im1.width, im1.height + im2.height))\n",
    "    dst.paste(im1, (0, 0))\n",
    "    dst.paste(im2, (0, im1.height))\n",
    "    return dst\n"
   ]
  },
  {
   "cell_type": "code",
   "execution_count": 18,
   "metadata": {},
   "outputs": [],
   "source": [
    "zoom_level = 4\n",
    "rows = [2,4,8,15,29,57][zoom_level - 1]\n",
    "cols = [2,4,8,15,29,58][zoom_level - 1]\n"
   ]
  },
  {
   "cell_type": "code",
   "execution_count": 19,
   "metadata": {},
   "outputs": [],
   "source": [
    "\n",
    "row_cat = None\n",
    "for col in range(cols):\n",
    "    col_cat = None\n",
    "    for row in range(rows):\n",
    "        url = f\"https://siliconpr0n.org/map/ti/tms0801nc/mcmaster_mz_mit20x/l1-tiles/{zoom_level}/{col}/{row}.jpg\"\n",
    "        #print(url)\n",
    "        response = requests.get(url)\n",
    "        img = Image.open(BytesIO(response.content))\n",
    "        if col_cat == None:\n",
    "            col_cat = img\n",
    "        else:\n",
    "            col_cat = get_concat_v(col_cat, img)\n",
    "\n",
    "    if row_cat == None:\n",
    "        row_cat = col_cat\n",
    "    else:\n",
    "        row_cat = get_concat_h(row_cat, col_cat)\n",
    "\n",
    "    #col_cat.save(f'img_{col}.jpg')\n",
    "row_cat.save(f'img.jpg')\n"
   ]
  },
  {
   "cell_type": "markdown",
   "metadata": {},
   "source": [
    "todo: \n",
    "use parallel requests\n",
    "window (offset and size)\n",
    "perhaps faster concat\n"
   ]
  }
 ],
 "metadata": {
  "kernelspec": {
   "display_name": "Python 3",
   "language": "python",
   "name": "python3"
  },
  "language_info": {
   "codemirror_mode": {
    "name": "ipython",
    "version": 3
   },
   "file_extension": ".py",
   "mimetype": "text/x-python",
   "name": "python",
   "nbconvert_exporter": "python",
   "pygments_lexer": "ipython3",
   "version": "3.11.2"
  }
 },
 "nbformat": 4,
 "nbformat_minor": 2
}
